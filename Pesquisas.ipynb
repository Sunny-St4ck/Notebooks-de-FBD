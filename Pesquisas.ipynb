{
 "cells": [
  {
   "cell_type": "markdown",
   "metadata": {},
   "source": [
    "### Importação das Bibliotecas e conexão com o banco de dados"
   ]
  },
  {
   "cell_type": "code",
   "execution_count": 1,
   "metadata": {},
   "outputs": [],
   "source": [
    "import pandas as pd\n",
    "import psycopg2 as pg"
   ]
  },
  {
   "cell_type": "code",
   "execution_count": null,
   "metadata": {},
   "outputs": [
    {
     "name": "stdout",
     "output_type": "stream",
     "text": [
      "Conexão estabelecida com Sucesso.\n"
     ]
    }
   ],
   "source": [
    "# Conectar com o Banco de Dados\n",
    "param = {\n",
    "    'dbname': 'postgres',\n",
    "    'user': 'postgres',\n",
    "    'password': 'amorzinho',\n",
    "    'host': 'localhost',\n",
    "    'port': '5432'\n",
    "}\n",
    "\n",
    "try:\n",
    "    conx = pg.connect(**param)\n",
    "    print(\"Conexão estabelecida com Sucesso.\")\n",
    "except:\n",
    "    print(f\"Erro ao conectar com o banco\")"
   ]
  },
  {
   "cell_type": "markdown",
   "metadata": {},
   "source": [
    "### Consultas de exemplo:"
   ]
  },
  {
   "cell_type": "code",
   "execution_count": null,
   "metadata": {},
   "outputs": [],
   "source": [
    "# Consulta Geral de \"Usuarios\"\n",
    "\n",
    "cursor = conx.cursor()\n",
    "\n",
    "query_sql = \"SELECT * FROM Usuario;\"\n",
    "\n",
    "try:\n",
    "    cursor.execute(query_sql)\n",
    "    usuario_data = cursor.fetchall()\n",
    "    print(\"Informações coletadas com sucessp.\")\n",
    "except:\n",
    "    print(f\"Erro recuperando as informações solicitadas\")\n",
    "\n",
    "usuario_data_exibir = pd.DataFrame(usuario_data, columns=['ID', 'Nome', 'Email', 'Telefone', 'Estado_Social', 'Localizacao'])\n",
    "\n",
    "display(usuario_data_exibir)\n"
   ]
  },
  {
   "cell_type": "code",
   "execution_count": null,
   "metadata": {},
   "outputs": [],
   "source": [
    "# Consulta Geral de \"Restaurante\"\n",
    "\n",
    "query_sql = \"SELECT * FROM Restaurante\"\n",
    "\n",
    "try:\n",
    "    cursor.execute(query_sql)\n",
    "    restaurante_data = cursor.fetchall()\n",
    "    print(\"Informações coletadas com sucesso.\")\n",
    "except:\n",
    "    print(f\"Erro recuperando as informações solicitadas\")\n",
    "\n",
    "\n",
    "restaurante_data_exibir = pd.DataFrame(restaurante_data, columns=['CNPJ', 'Nome', 'Email', 'Telefone', 'Localizacao', 'Especializacao', 'ID_Usuario'])\n",
    "display(restaurante_data_exibir)"
   ]
  },
  {
   "cell_type": "code",
   "execution_count": null,
   "metadata": {},
   "outputs": [],
   "source": [
    "# Consulta geral de \"ONG\"\n",
    "\n",
    "query_sql = \"SELECT * FROM ONG\"\n",
    "\n",
    "try:\n",
    "    cursor.execute(query_sql)\n",
    "    ong_data = cursor.fetchall()\n",
    "    print(\"Informações coletadas com sucesso.\")\n",
    "except:\n",
    "    print(f\"Erro recuperando as informações solicitadas\")\n",
    "\n",
    "ong_data_exibir = pd.DataFrame(ong_data, columns=['Nome', 'Responsaveis', 'Telefone_Contato', 'Site', 'Localizacao', 'ID_Usuario'])\n",
    "display(ong_data_exibir)"
   ]
  },
  {
   "cell_type": "markdown",
   "metadata": {},
   "source": [
    "### Pesquisa personalizada (Limitada à demonstrações simples)"
   ]
  },
  {
   "cell_type": "code",
   "execution_count": null,
   "metadata": {},
   "outputs": [],
   "source": [
    "query_sql = input(\"Digite o comando SQL: \")\n",
    "\n",
    "try: \n",
    "    cursor.execute(query_sql)\n",
    "    data = cursor.fetchall()\n",
    "    print(f\"Query executada com sucesso\")\n",
    "except:\n",
    "    print(f\"Erro ao executar a Query.\")\n",
    "\n",
    "display(data)"
   ]
  },
  {
   "cell_type": "markdown",
   "metadata": {},
   "source": [
    "### Encerrar conexão:"
   ]
  },
  {
   "cell_type": "code",
   "execution_count": null,
   "metadata": {},
   "outputs": [],
   "source": [
    "cursor.close()\n",
    "conx.close()"
   ]
  }
 ],
 "metadata": {
  "kernelspec": {
   "display_name": ".venv",
   "language": "python",
   "name": "python3"
  },
  "language_info": {
   "codemirror_mode": {
    "name": "ipython",
    "version": 3
   },
   "file_extension": ".py",
   "mimetype": "text/x-python",
   "name": "python",
   "nbconvert_exporter": "python",
   "pygments_lexer": "ipython3",
   "version": "3.13.2"
  }
 },
 "nbformat": 4,
 "nbformat_minor": 2
}
