{
 "cells": [
  {
   "cell_type": "markdown",
   "metadata": {},
   "source": [
    "### Conexão com o banco de dados"
   ]
  },
  {
   "cell_type": "code",
   "execution_count": 26,
   "metadata": {},
   "outputs": [],
   "source": [
    "import pandas as pd\n",
    "import psycopg2 as pg"
   ]
  },
  {
   "cell_type": "code",
   "execution_count": null,
   "metadata": {},
   "outputs": [
    {
     "name": "stdout",
     "output_type": "stream",
     "text": [
      "Conexão estabelecida com Sucesso.\n"
     ]
    }
   ],
   "source": [
    "# Conectar com o Banco de Dados\n",
    "param = {\n",
    "    'dbname': 'postgres',\n",
    "    'user': 'postgres',\n",
    "    'password': 'amorzinho',\n",
    "    'host': 'localhost',\n",
    "    'port': '5432'\n",
    "}\n",
    "\n",
    "try:\n",
    "    conx = pg.connect(**param)\n",
    "    print(\"Conexão estabelecida com Sucesso.\")\n",
    "except:\n",
    "    print(f\"Erro ao conectar com o banco\")"
   ]
  },
  {
   "cell_type": "markdown",
   "metadata": {},
   "source": [
    "### Cria novas tabelas dentro do Banco de Dados"
   ]
  },
  {
   "cell_type": "code",
   "execution_count": 28,
   "metadata": {},
   "outputs": [
    {
     "name": "stdout",
     "output_type": "stream",
     "text": [
      "Tabela criada com sucesso!\n"
     ]
    }
   ],
   "source": [
    "# Cria nova tabela chamada \"Voluntários\"\n",
    "\n",
    "try:\n",
    "    cursor = conx.cursor()\n",
    "    cursor.execute(\"\"\"\n",
    "        CREATE TABLE Voluntario (\n",
    "            ID SERIAL PRIMARY KEY,\n",
    "            Nome VARCHAR(100) NOT NULL,\n",
    "            Email VARCHAR(100),\n",
    "            Telefone VARCHAR(15),\n",
    "            Disponibilidade VARCHAR(50),\n",
    "            ID_Usuario INT NOT NULL,\n",
    "            FOREIGN KEY (ID_Usuario) REFERENCES Usuario(ID)\n",
    "        );\n",
    "    \"\"\")\n",
    "    conx.commit()\n",
    "    print(\"Tabela criada com sucesso!\")\n",
    "    \n",
    "\n",
    "except:\n",
    "    cursor.execute('ROLLBACK')\n",
    "    print(\"A tabela não pode ser criada\")"
   ]
  },
  {
   "cell_type": "code",
   "execution_count": 29,
   "metadata": {},
   "outputs": [
    {
     "name": "stdout",
     "output_type": "stream",
     "text": [
      "Tabela criada com sucesso!\n"
     ]
    }
   ],
   "source": [
    "try:\n",
    "    cursor = conx.cursor()\n",
    "    cursor.execute(\"\"\"\n",
    "        CREATE TABLE Evento (\n",
    "        ID SERIAL PRIMARY KEY,\n",
    "        Nome VARCHAR(100) NOT NULL,\n",
    "        Data TIMESTAMP NOT NULL,\n",
    "        Localizacao VARCHAR(255),\n",
    "        Descricao TEXT,\n",
    "        ID_ONG VARCHAR(100),\n",
    "        FOREIGN KEY (ID_ONG) REFERENCES ONG(Nome)\n",
    "        );\n",
    "    \"\"\")\n",
    "    print(\"Tabela criada com sucesso!\")\n",
    "    conx.commit()\n",
    "\n",
    "except:\n",
    "    cursor.execute('ROLLBACK')\n",
    "    print(\"A tabela não pode ser criada\")"
   ]
  },
  {
   "cell_type": "markdown",
   "metadata": {},
   "source": [
    "### Deleta tabelas dentro do Banco de Dados"
   ]
  },
  {
   "cell_type": "code",
   "execution_count": 30,
   "metadata": {},
   "outputs": [
    {
     "name": "stdout",
     "output_type": "stream",
     "text": [
      "Tabela apagada com sucesso\n"
     ]
    }
   ],
   "source": [
    "\n",
    "try:\n",
    "    cursor = conx.cursor()\n",
    "    cursor.execute(\"drop table if exists Voluntario;\")\n",
    "    conx.commit()\n",
    "    print(\"Tabela apagada com sucesso\")\n",
    "\n",
    "except:\n",
    "    cursor.execute('ROLLBACK')\n",
    "    print(\"A tabela não pode ser criada\")"
   ]
  },
  {
   "cell_type": "code",
   "execution_count": 31,
   "metadata": {},
   "outputs": [
    {
     "name": "stdout",
     "output_type": "stream",
     "text": [
      "Tabela apagada com sucesso\n"
     ]
    }
   ],
   "source": [
    "try:\n",
    "    cursor = conx.cursor()\n",
    "    cursor.execute(\"DROP TABLE IF EXISTS Evento;\")\n",
    "    conx.commit()\n",
    "    print(\"Tabela apagada com sucesso\")\n",
    "\n",
    "except:\n",
    "    cursor.execute('ROLLBACK')\n",
    "    print(\"A tabela não pode ser criada\")"
   ]
  },
  {
   "cell_type": "markdown",
   "metadata": {},
   "source": [
    "### Fechar a conexão"
   ]
  },
  {
   "cell_type": "code",
   "execution_count": 32,
   "metadata": {},
   "outputs": [],
   "source": [
    "cursor.close()\n",
    "conx.close()"
   ]
  }
 ],
 "metadata": {
  "kernelspec": {
   "display_name": ".venv",
   "language": "python",
   "name": "python3"
  },
  "language_info": {
   "codemirror_mode": {
    "name": "ipython",
    "version": 3
   },
   "file_extension": ".py",
   "mimetype": "text/x-python",
   "name": "python",
   "nbconvert_exporter": "python",
   "pygments_lexer": "ipython3",
   "version": "3.13.2"
  }
 },
 "nbformat": 4,
 "nbformat_minor": 2
}
