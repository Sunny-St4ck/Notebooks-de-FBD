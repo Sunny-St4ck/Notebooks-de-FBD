{
 "cells": [
  {
   "cell_type": "markdown",
   "id": "e305104f-a496-4286-925e-f0f863bbca68",
   "metadata": {},
   "source": [
    "### Importe da Biblioteca e Conexão com o Banco de Dados"
   ]
  },
  {
   "cell_type": "code",
   "execution_count": null,
   "id": "fa99df59",
   "metadata": {},
   "outputs": [],
   "source": [
    "import pandas as pd\n",
    "import psycopg2 as pg"
   ]
  },
  {
   "cell_type": "code",
   "execution_count": 3,
   "id": "1835d206-2909-469b-8e7c-c8f267c5f85d",
   "metadata": {},
   "outputs": [
    {
     "name": "stdout",
     "output_type": "stream",
     "text": [
      "A conexão foi um sucesso\n"
     ]
    }
   ],
   "source": [
    "try:\n",
    "    conx = pg.connect(database='postgres',\n",
    "                  host='localhost',\n",
    "                  user='postgres', \n",
    "                  password='amorzinho',\n",
    "                  port='5432'\n",
    "                  )\n",
    "    print(\"A conexão foi um sucesso\")\n",
    "except: \n",
    "    print(\"A Conexão foi uma falha\")"
   ]
  },
  {
   "cell_type": "code",
   "execution_count": 4,
   "id": "8aa39906",
   "metadata": {},
   "outputs": [],
   "source": [
    "cursor = conx.cursor()"
   ]
  },
  {
   "cell_type": "markdown",
   "id": "7f131e9c",
   "metadata": {},
   "source": [
    "### Inserções na Tabela \"Usuario\""
   ]
  },
  {
   "cell_type": "code",
   "execution_count": 5,
   "id": "4bb93027",
   "metadata": {},
   "outputs": [],
   "source": [
    "# Template pronto para teste.\n",
    "\n",
    "Nome= \"Josival Silva\"\n",
    "Email= \"Josilva@gmail.com\"\n",
    "Telefone= \"(85) 98100-2842\"\n",
    "Estado_Social= \"Baixa_renda\"\n",
    "Localizacao= \"Rua da Santa Helena, casa 22\""
   ]
  },
  {
   "cell_type": "code",
   "execution_count": 7,
   "id": "a5879ea3",
   "metadata": {},
   "outputs": [],
   "source": [
    "# Template pronto para teste.\n",
    "\n",
    "Nome= \"Helena Maria\"\n",
    "Email= \"HelenMary@gmail.com\"\n",
    "Telefone= \"(64) 4410-8112\"\n",
    "Estado_Social= \"Media_renda\"\n",
    "Localizacao= \"Rua Edivaldo Cruz, apartamento 512 andar 3\""
   ]
  },
  {
   "cell_type": "code",
   "execution_count": null,
   "id": "60b97d48",
   "metadata": {},
   "outputs": [],
   "source": [
    "# Versão que permite o usuário inserir o usuário como desejar.\n",
    "\n",
    "Nome = input(\"Digite o nome do Usuario: \")\n",
    "Email = input(\"Digite o email:\")\n",
    "Telefone = input(\"Digite o telefone do usuario:\")\n",
    "Estado_Social = input(\"Digite o Estado Social do Individuo: \")\n",
    "Localizacao = input(\"Digite o Endereço do Individuo: \")"
   ]
  },
  {
   "cell_type": "code",
   "execution_count": 8,
   "id": "710d2e60",
   "metadata": {},
   "outputs": [
    {
     "name": "stdout",
     "output_type": "stream",
     "text": [
      "A adição foi um sucesso.\n"
     ]
    }
   ],
   "source": [
    "# Inserção na tabela \"Usuario\"\n",
    "\n",
    "try:\n",
    "    cursor.execute('insert into Usuario (Nome, Email, Telefone, Estado_Social, Localizacao) values (%s, %s, %s, %s, %s)',\n",
    "               (Nome, Email, Telefone, Estado_Social, Localizacao))\n",
    "    conx.commit()\n",
    "    print(\"A adição foi um sucesso.\")\n",
    "except:\n",
    "    cursor.execute('ROLLBACK')\n",
    "    print('A adição foi mal sucedida.')"
   ]
  },
  {
   "cell_type": "markdown",
   "id": "897b7fb6",
   "metadata": {},
   "source": [
    "### Inserções na Tabela \"ONG\""
   ]
  },
  {
   "cell_type": "code",
   "execution_count": null,
   "id": "1992b663",
   "metadata": {},
   "outputs": [],
   "source": [
    "# Template pronto para teste.\n",
    "\n",
    "ongnome= 'NewLife'\n",
    "responsavel= 'Janna Lacerda'\n",
    "TelefoneONG= '(82) 1199-8521'\n",
    "site='www.NewLife.com.br'\n",
    "Localizacao='Alagoas'\n",
    "ID_usuario_ong= 8"
   ]
  },
  {
   "cell_type": "code",
   "execution_count": 34,
   "id": "db18b8e0",
   "metadata": {},
   "outputs": [],
   "source": [
    "# Template pronto para teste\n",
    "\n",
    "ongnome= 'Lagoaviva'\n",
    "responsavel= 'Inácio Cavalcante'\n",
    "TelefoneONG= '(22) 8521-1199'\n",
    "site='www.VivaLagoa.com.br'\n",
    "Localizacao='Rio de Janeiro'\n",
    "ID_usuario_ong= 3"
   ]
  },
  {
   "cell_type": "code",
   "execution_count": null,
   "id": "915d4b4c",
   "metadata": {},
   "outputs": [],
   "source": [
    "# Inserção personalizada caso o usuário deseje.\n",
    "\n",
    "ongnome = input(\"Digite o nome da ONG: \")\n",
    "responsavel = input(\"Digite os responsáveis: \")\n",
    "TelefoneONG = input(\"Digite o telefone de contato: \")\n",
    "site = input(\"Digite o site: \")\n",
    "Localizacao = input(\"Digite a localização: \")\n",
    "id_usuario_ong = int(input(\"Digite o ID do usuário: \"))\n"
   ]
  },
  {
   "cell_type": "code",
   "execution_count": 35,
   "id": "ba404db3",
   "metadata": {},
   "outputs": [
    {
     "name": "stdout",
     "output_type": "stream",
     "text": [
      "A adição foi bem sucedida.\n"
     ]
    }
   ],
   "source": [
    "# Inserção na tabela\n",
    "\n",
    "try:\n",
    "    cursor.execute('insert into ONG (Nome, Responsaveis, Telefone_Contato, Site, Localizacao, ID_Usuario) values (%s, %s, %s, %s, %s, %s)',\n",
    "                    (ongnome, responsavel, TelefoneONG, site, Localizacao, ID_usuario_ong))\n",
    "    conx.commit()\n",
    "    print('A adição foi bem sucedida.')\n",
    "except: \n",
    "    cursor.execute('ROLLBACK')\n",
    "    print('A adição foi mal sucedida')"
   ]
  },
  {
   "cell_type": "markdown",
   "id": "11351f70",
   "metadata": {},
   "source": [
    "### Inserção na tabela \"Restaurante\""
   ]
  },
  {
   "cell_type": "code",
   "execution_count": 18,
   "id": "69f8f488",
   "metadata": {},
   "outputs": [],
   "source": [
    "cnpj = '12345678000199'\n",
    "nome_restaurante = 'Restaurante K'\n",
    "email = 'k@example.com'\n",
    "telefone = '987654321'\n",
    "localizacao_restaurante = 'Rio de Janeiro'\n",
    "especializacao = 'Italiana'\n",
    "id_usuario_restaurante = 2\n"
   ]
  },
  {
   "cell_type": "code",
   "execution_count": 36,
   "id": "75cec406",
   "metadata": {},
   "outputs": [],
   "source": [
    "cnpj = '98765432000188'\n",
    "nome_restaurante = 'Restaurante L'\n",
    "email = 'l@example.com'\n",
    "telefone = '123456789'\n",
    "localizacao_restaurante = 'São Paulo'\n",
    "especializacao = 'Mexicana'\n",
    "id_usuario_restaurante = 25"
   ]
  },
  {
   "cell_type": "code",
   "execution_count": null,
   "id": "3be8b075",
   "metadata": {},
   "outputs": [],
   "source": [
    "# Inserção personalizada na tabela \"Restaurante\"\n",
    "\n",
    "cnpj = input(\"Digite o CNPJ do restaurante: \")\n",
    "nome_restaurante = input(\"Digite o nome do restaurante: \")\n",
    "email = input(\"Digite o email: \")\n",
    "telefone = input(\"Digite o telefone: \")\n",
    "localizacao_restaurante = input(\"Digite a localização: \")\n",
    "especializacao = input(\"Digite a especialização: \")\n",
    "id_usuario_restaurante = int(input(\"Digite o ID do usuário: \"))"
   ]
  },
  {
   "cell_type": "code",
   "execution_count": 37,
   "id": "d719a683",
   "metadata": {},
   "outputs": [
    {
     "name": "stdout",
     "output_type": "stream",
     "text": [
      "A adição foi um sucesso.\n"
     ]
    }
   ],
   "source": [
    "try:\n",
    "    cursor.execute('insert into Restaurante (CNPJ, Nome, Email, Telefone, Localizacao, Especializacao, ID_Usuario) values (%s, %s, %s, %s, %s, %s, %s)',\n",
    "                   (cnpj, nome_restaurante, email, telefone, localizacao_restaurante, especializacao, id_usuario_restaurante))\n",
    "    conx.commit()\n",
    "    print(\"A adição foi um sucesso.\")\n",
    "except:\n",
    "    cursor.execute('ROLLBACK')\n",
    "    print('A adição foi mal sucedida.')"
   ]
  },
  {
   "cell_type": "code",
   "execution_count": null,
   "id": "9e2cdfa4",
   "metadata": {},
   "outputs": [],
   "source": [
    "# Fechar a conexão\n",
    "\n",
    "cursor.close()\n",
    "conx.close()"
   ]
  }
 ],
 "metadata": {
  "kernelspec": {
   "display_name": ".venv",
   "language": "python",
   "name": "python3"
  },
  "language_info": {
   "codemirror_mode": {
    "name": "ipython",
    "version": 3
   },
   "file_extension": ".py",
   "mimetype": "text/x-python",
   "name": "python",
   "nbconvert_exporter": "python",
   "pygments_lexer": "ipython3",
   "version": "3.13.2"
  }
 },
 "nbformat": 4,
 "nbformat_minor": 5
}
